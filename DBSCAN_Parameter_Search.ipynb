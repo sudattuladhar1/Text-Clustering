{
 "cells": [
  {
   "cell_type": "markdown",
   "metadata": {},
   "source": [
    "# DBSCAN Parameter Search"
   ]
  },
  {
   "cell_type": "code",
   "execution_count": 1,
   "metadata": {},
   "outputs": [],
   "source": [
    "from sklearn.neighbors import NearestNeighbors\n",
    "import numpy as np\n",
    "import pandas as pd\n",
    "import matplotlib.pyplot as plt\n",
    "%matplotlib inline"
   ]
  },
  {
   "cell_type": "markdown",
   "metadata": {},
   "source": [
    "### Pre-Processed data import"
   ]
  },
  {
   "cell_type": "code",
   "execution_count": 2,
   "metadata": {},
   "outputs": [
    {
     "name": "stdout",
     "output_type": "stream",
     "text": [
      "Data shpape:  (51715, 300)\n"
     ]
    },
    {
     "data": {
      "text/html": [
       "<div>\n",
       "<style scoped>\n",
       "    .dataframe tbody tr th:only-of-type {\n",
       "        vertical-align: middle;\n",
       "    }\n",
       "\n",
       "    .dataframe tbody tr th {\n",
       "        vertical-align: top;\n",
       "    }\n",
       "\n",
       "    .dataframe thead th {\n",
       "        text-align: right;\n",
       "    }\n",
       "</style>\n",
       "<table border=\"1\" class=\"dataframe\">\n",
       "  <thead>\n",
       "    <tr style=\"text-align: right;\">\n",
       "      <th></th>\n",
       "      <th>0</th>\n",
       "      <th>1</th>\n",
       "      <th>2</th>\n",
       "      <th>3</th>\n",
       "      <th>4</th>\n",
       "      <th>5</th>\n",
       "      <th>6</th>\n",
       "      <th>7</th>\n",
       "      <th>8</th>\n",
       "      <th>9</th>\n",
       "      <th>...</th>\n",
       "      <th>290</th>\n",
       "      <th>291</th>\n",
       "      <th>292</th>\n",
       "      <th>293</th>\n",
       "      <th>294</th>\n",
       "      <th>295</th>\n",
       "      <th>296</th>\n",
       "      <th>297</th>\n",
       "      <th>298</th>\n",
       "      <th>299</th>\n",
       "    </tr>\n",
       "  </thead>\n",
       "  <tbody>\n",
       "    <tr>\n",
       "      <th>0</th>\n",
       "      <td>-0.104800</td>\n",
       "      <td>0.067374</td>\n",
       "      <td>-0.007563</td>\n",
       "      <td>0.078689</td>\n",
       "      <td>-0.034016</td>\n",
       "      <td>0.011923</td>\n",
       "      <td>-0.052252</td>\n",
       "      <td>-0.024321</td>\n",
       "      <td>-0.027407</td>\n",
       "      <td>0.015229</td>\n",
       "      <td>...</td>\n",
       "      <td>0.044131</td>\n",
       "      <td>0.003494</td>\n",
       "      <td>-0.056048</td>\n",
       "      <td>0.050570</td>\n",
       "      <td>-0.016011</td>\n",
       "      <td>-0.095486</td>\n",
       "      <td>-0.068875</td>\n",
       "      <td>-0.014062</td>\n",
       "      <td>-0.067393</td>\n",
       "      <td>0.082839</td>\n",
       "    </tr>\n",
       "    <tr>\n",
       "      <th>1</th>\n",
       "      <td>-0.099761</td>\n",
       "      <td>0.063995</td>\n",
       "      <td>-0.002941</td>\n",
       "      <td>0.081860</td>\n",
       "      <td>-0.031225</td>\n",
       "      <td>0.011352</td>\n",
       "      <td>-0.053607</td>\n",
       "      <td>-0.022655</td>\n",
       "      <td>-0.030922</td>\n",
       "      <td>0.016970</td>\n",
       "      <td>...</td>\n",
       "      <td>0.045404</td>\n",
       "      <td>0.000528</td>\n",
       "      <td>-0.057001</td>\n",
       "      <td>0.051244</td>\n",
       "      <td>-0.017411</td>\n",
       "      <td>-0.093238</td>\n",
       "      <td>-0.069151</td>\n",
       "      <td>-0.010103</td>\n",
       "      <td>-0.070342</td>\n",
       "      <td>0.081448</td>\n",
       "    </tr>\n",
       "    <tr>\n",
       "      <th>2</th>\n",
       "      <td>-0.106069</td>\n",
       "      <td>0.066504</td>\n",
       "      <td>-0.002576</td>\n",
       "      <td>0.080089</td>\n",
       "      <td>-0.030978</td>\n",
       "      <td>0.008891</td>\n",
       "      <td>-0.042810</td>\n",
       "      <td>-0.026989</td>\n",
       "      <td>-0.027736</td>\n",
       "      <td>0.012572</td>\n",
       "      <td>...</td>\n",
       "      <td>0.044403</td>\n",
       "      <td>0.006679</td>\n",
       "      <td>-0.058899</td>\n",
       "      <td>0.053263</td>\n",
       "      <td>-0.023295</td>\n",
       "      <td>-0.103764</td>\n",
       "      <td>-0.067405</td>\n",
       "      <td>-0.012665</td>\n",
       "      <td>-0.061347</td>\n",
       "      <td>0.090979</td>\n",
       "    </tr>\n",
       "    <tr>\n",
       "      <th>3</th>\n",
       "      <td>-0.107032</td>\n",
       "      <td>0.070473</td>\n",
       "      <td>-0.005630</td>\n",
       "      <td>0.076993</td>\n",
       "      <td>-0.033485</td>\n",
       "      <td>0.015500</td>\n",
       "      <td>-0.048176</td>\n",
       "      <td>-0.031846</td>\n",
       "      <td>-0.025859</td>\n",
       "      <td>0.011948</td>\n",
       "      <td>...</td>\n",
       "      <td>0.039869</td>\n",
       "      <td>0.007897</td>\n",
       "      <td>-0.063938</td>\n",
       "      <td>0.050105</td>\n",
       "      <td>-0.015554</td>\n",
       "      <td>-0.099345</td>\n",
       "      <td>-0.063351</td>\n",
       "      <td>-0.015247</td>\n",
       "      <td>-0.060628</td>\n",
       "      <td>0.087411</td>\n",
       "    </tr>\n",
       "    <tr>\n",
       "      <th>4</th>\n",
       "      <td>-0.101527</td>\n",
       "      <td>0.065760</td>\n",
       "      <td>-0.004314</td>\n",
       "      <td>0.076342</td>\n",
       "      <td>-0.037384</td>\n",
       "      <td>0.017309</td>\n",
       "      <td>-0.049499</td>\n",
       "      <td>-0.029318</td>\n",
       "      <td>-0.030110</td>\n",
       "      <td>0.015880</td>\n",
       "      <td>...</td>\n",
       "      <td>0.043400</td>\n",
       "      <td>0.004169</td>\n",
       "      <td>-0.052330</td>\n",
       "      <td>0.052160</td>\n",
       "      <td>-0.019855</td>\n",
       "      <td>-0.096451</td>\n",
       "      <td>-0.062877</td>\n",
       "      <td>-0.016220</td>\n",
       "      <td>-0.069331</td>\n",
       "      <td>0.080087</td>\n",
       "    </tr>\n",
       "  </tbody>\n",
       "</table>\n",
       "<p>5 rows × 300 columns</p>\n",
       "</div>"
      ],
      "text/plain": [
       "        0         1         2         3         4         5         6    \\\n",
       "0 -0.104800  0.067374 -0.007563  0.078689 -0.034016  0.011923 -0.052252   \n",
       "1 -0.099761  0.063995 -0.002941  0.081860 -0.031225  0.011352 -0.053607   \n",
       "2 -0.106069  0.066504 -0.002576  0.080089 -0.030978  0.008891 -0.042810   \n",
       "3 -0.107032  0.070473 -0.005630  0.076993 -0.033485  0.015500 -0.048176   \n",
       "4 -0.101527  0.065760 -0.004314  0.076342 -0.037384  0.017309 -0.049499   \n",
       "\n",
       "        7         8         9      ...          290       291       292  \\\n",
       "0 -0.024321 -0.027407  0.015229    ...     0.044131  0.003494 -0.056048   \n",
       "1 -0.022655 -0.030922  0.016970    ...     0.045404  0.000528 -0.057001   \n",
       "2 -0.026989 -0.027736  0.012572    ...     0.044403  0.006679 -0.058899   \n",
       "3 -0.031846 -0.025859  0.011948    ...     0.039869  0.007897 -0.063938   \n",
       "4 -0.029318 -0.030110  0.015880    ...     0.043400  0.004169 -0.052330   \n",
       "\n",
       "        293       294       295       296       297       298       299  \n",
       "0  0.050570 -0.016011 -0.095486 -0.068875 -0.014062 -0.067393  0.082839  \n",
       "1  0.051244 -0.017411 -0.093238 -0.069151 -0.010103 -0.070342  0.081448  \n",
       "2  0.053263 -0.023295 -0.103764 -0.067405 -0.012665 -0.061347  0.090979  \n",
       "3  0.050105 -0.015554 -0.099345 -0.063351 -0.015247 -0.060628  0.087411  \n",
       "4  0.052160 -0.019855 -0.096451 -0.062877 -0.016220 -0.069331  0.080087  \n",
       "\n",
       "[5 rows x 300 columns]"
      ]
     },
     "execution_count": 2,
     "metadata": {},
     "output_type": "execute_result"
    }
   ],
   "source": [
    "ndims = 300\n",
    "column_names = list(range(ndims))\n",
    "df = pd.read_csv('docs_vector.csv', names = ['Index'] + column_names, index_col = 0, header=None)\n",
    "df.head()\n",
    "\n",
    "# Normalization\n",
    "from sklearn import preprocessing\n",
    "df = preprocessing.normalize(df, norm='l2', axis=1, copy=False, return_norm=False)\n",
    "df = pd.DataFrame(df)\n",
    "print('Data shpape: ', df.shape)\n",
    "df.head()"
   ]
  },
  {
   "cell_type": "markdown",
   "metadata": {},
   "source": [
    "### Write K-distances into files varying K : \n",
    "(Heavy Processing: done in MCSR with separate file dbscan_parameter_search.py"
   ]
  },
  {
   "cell_type": "code",
   "execution_count": null,
   "metadata": {},
   "outputs": [],
   "source": [
    "#K = 4, 6, 10\n",
    "K = 4\n",
    "nbrs = NearestNeighbors(n_neighbors=K).fit(df)\n",
    "distances, indices = nbrs.kneighbors(df)\n",
    "distanceDec = sorted(distances[:,K-1], reverse=False)\n",
    "filename = './Status/' + str(K) + '_dbs_prm_dbscan_parameter_search.py.out'\n",
    "np.savetxt(filename, distanceDec, delimiter = ',')\n"
   ]
  },
  {
   "cell_type": "markdown",
   "metadata": {},
   "source": [
    "### K-distance graph read from post-processed file (300 dims)"
   ]
  },
  {
   "cell_type": "code",
   "execution_count": 3,
   "metadata": {},
   "outputs": [
    {
     "data": {
      "image/png": "[encoded data removed]",
      "text/plain": [
       "<Figure size 432x288 with 1 Axes>"
      ]
     },
     "metadata": {},
     "output_type": "display_data"
    }
   ],
   "source": [
    "K = 4\n",
    "\n",
    "filename = './Status/' + str(K) + '_dbs_prm_dbscan_parameter_search.py.out'\n",
    "distanceDec = np.genfromtxt(filename, delimiter=',', dtype=None)\n",
    "\n",
    "#print(distanceDec[10000:10500])\n",
    "plt.plot(list(range(1,df.shape[0]+1)), distanceDec)\n",
    "plt.xlabel('Points sorted according to distance of ' + str(K) + 'th nearest neighbor')\n",
    "plt.title(str(K)+'th distance graph')\n",
    "plt.ylabel(str(K) + 'th Nearest Neighbor Distance')\n",
    "plt.ylim([0, 0.2])\n",
    "plt.show()\n"
   ]
  },
  {
   "cell_type": "code",
   "execution_count": 4,
   "metadata": {},
   "outputs": [
    {
     "data": {
      "image/png": "[encoded data removed]",
      "text/plain": [
       "<Figure size 432x288 with 1 Axes>"
      ]
     },
     "metadata": {},
     "output_type": "display_data"
    }
   ],
   "source": [
    "K = 6\n",
    "\n",
    "filename = './Status/' + str(K) + '_dbs_prm_dbscan_parameter_search.py.out'\n",
    "distanceDec = np.genfromtxt(filename, delimiter=',', dtype=None)\n",
    "\n",
    "#print(distanceDec[10000:10500])\n",
    "plt.plot(list(range(1,df.shape[0]+1)), distanceDec)\n",
    "plt.xlabel('Points sorted according to distance of ' + str(K) + 'th nearest neighbor')\n",
    "plt.title(str(K)+'th distance graph')\n",
    "plt.ylabel(str(K) + 'th Nearest Neighbor Distance')\n",
    "plt.ylim([0, 0.2])\n",
    "plt.show()"
   ]
  },
  {
   "cell_type": "code",
   "execution_count": 6,
   "metadata": {},
   "outputs": [
    {
     "data": {
      "image/png": "[encoded data removed]",
      "text/plain": [
       "<Figure size 432x288 with 1 Axes>"
      ]
     },
     "metadata": {},
     "output_type": "display_data"
    }
   ],
   "source": [
    "K = 10\n",
    "\n",
    "filename = './Status/' + str(K) + '_dbs_prm_dbscan_parameter_search.py.out'\n",
    "distanceDec = np.genfromtxt(filename, delimiter=',', dtype=None)\n",
    "\n",
    "#print(distanceDec[10000:10500])\n",
    "plt.plot(list(range(1,df.shape[0]+1)), distanceDec)\n",
    "plt.xlabel('Points sorted according to distance of ' + str(K) + 'th nearest neighbor')\n",
    "plt.title(str(K)+'th distance graph')\n",
    "plt.ylabel(str(K) + 'th Nearest Neighbor Distance')\n",
    "plt.ylim([0, 0.2])\n",
    "plt.show()"
   ]
  },
  {
   "cell_type": "markdown",
   "metadata": {},
   "source": [
    "### K-distance graph read from post-processed file (5 dims using PCA)"
   ]
  },
  {
   "cell_type": "code",
   "execution_count": 5,
   "metadata": {},
   "outputs": [
    {
     "name": "stdout",
     "output_type": "stream",
     "text": [
      "Data shpape:  (51716, 5)\n"
     ]
    },
    {
     "data": {
      "text/html": [
       "<div>\n",
       "<style scoped>\n",
       "    .dataframe tbody tr th:only-of-type {\n",
       "        vertical-align: middle;\n",
       "    }\n",
       "\n",
       "    .dataframe tbody tr th {\n",
       "        vertical-align: top;\n",
       "    }\n",
       "\n",
       "    .dataframe thead th {\n",
       "        text-align: right;\n",
       "    }\n",
       "</style>\n",
       "<table border=\"1\" class=\"dataframe\">\n",
       "  <thead>\n",
       "    <tr style=\"text-align: right;\">\n",
       "      <th></th>\n",
       "      <th>0</th>\n",
       "      <th>1</th>\n",
       "      <th>2</th>\n",
       "      <th>3</th>\n",
       "      <th>4</th>\n",
       "    </tr>\n",
       "  </thead>\n",
       "  <tbody>\n",
       "    <tr>\n",
       "      <th>0</th>\n",
       "      <td>0.000000</td>\n",
       "      <td>0.182574</td>\n",
       "      <td>0.365148</td>\n",
       "      <td>0.547723</td>\n",
       "      <td>0.730297</td>\n",
       "    </tr>\n",
       "    <tr>\n",
       "      <th>1</th>\n",
       "      <td>-0.597218</td>\n",
       "      <td>-0.700543</td>\n",
       "      <td>-0.129331</td>\n",
       "      <td>-0.296102</td>\n",
       "      <td>-0.219470</td>\n",
       "    </tr>\n",
       "    <tr>\n",
       "      <th>2</th>\n",
       "      <td>-0.129919</td>\n",
       "      <td>0.110543</td>\n",
       "      <td>0.216261</td>\n",
       "      <td>0.484514</td>\n",
       "      <td>-0.830288</td>\n",
       "    </tr>\n",
       "    <tr>\n",
       "      <th>3</th>\n",
       "      <td>-0.361706</td>\n",
       "      <td>-0.206133</td>\n",
       "      <td>0.531634</td>\n",
       "      <td>-0.702779</td>\n",
       "      <td>0.223931</td>\n",
       "    </tr>\n",
       "    <tr>\n",
       "      <th>4</th>\n",
       "      <td>-0.361078</td>\n",
       "      <td>-0.421106</td>\n",
       "      <td>-0.276431</td>\n",
       "      <td>-0.780486</td>\n",
       "      <td>-0.081972</td>\n",
       "    </tr>\n",
       "  </tbody>\n",
       "</table>\n",
       "</div>"
      ],
      "text/plain": [
       "          0         1         2         3         4\n",
       "0  0.000000  0.182574  0.365148  0.547723  0.730297\n",
       "1 -0.597218 -0.700543 -0.129331 -0.296102 -0.219470\n",
       "2 -0.129919  0.110543  0.216261  0.484514 -0.830288\n",
       "3 -0.361706 -0.206133  0.531634 -0.702779  0.223931\n",
       "4 -0.361078 -0.421106 -0.276431 -0.780486 -0.081972"
      ]
     },
     "execution_count": 5,
     "metadata": {},
     "output_type": "execute_result"
    }
   ],
   "source": [
    "ndims = 5\n",
    "column_names = list(range(ndims))\n",
    "df_reduced = pd.read_csv('docs_vector_reduced.csv', names = ['Index'] + column_names, index_col = 0, header=None)\n",
    "df_reduced.head()\n",
    "\n",
    "# Normalization\n",
    "from sklearn import preprocessing\n",
    "df_reduced = preprocessing.normalize(df_reduced, norm='l2', axis=1, copy=False, return_norm=False)\n",
    "df_reduced = pd.DataFrame(df_reduced)\n",
    "print('Data shpape: ', df_reduced.shape)\n",
    "df_reduced.head()"
   ]
  },
  {
   "cell_type": "code",
   "execution_count": 8,
   "metadata": {},
   "outputs": [
    {
     "data": {
      "image/png": "[encoded data removed]",
      "text/plain": [
       "<Figure size 432x288 with 1 Axes>"
      ]
     },
     "metadata": {},
     "output_type": "display_data"
    }
   ],
   "source": [
    "K = 4\n",
    "\n",
    "filename = './Status/' + str(K) + '_dbs_prm_dbscan_parameter_search_pca.py.out'\n",
    "distanceDec = np.genfromtxt(filename, delimiter=',', dtype=None)\n",
    "\n",
    "#print(distanceDec[10000:10500])\n",
    "plt.plot(list(range(1,df_reduced.shape[0]+1)), distanceDec)\n",
    "plt.xlabel('Points sorted according to distance of ' + str(K) + 'th nearest neighbor')\n",
    "plt.title(str(K)+'th distance graph')\n",
    "plt.ylabel(str(K) + 'th Nearest Neighbor Distance')\n",
    "#plt.ylim([0, 0.2])\n",
    "plt.show()"
   ]
  },
  {
   "cell_type": "code",
   "execution_count": 9,
   "metadata": {},
   "outputs": [
    {
     "data": {
      "image/png": "[encoded data removed]",
      "text/plain": [
       "<Figure size 432x288 with 1 Axes>"
      ]
     },
     "metadata": {},
     "output_type": "display_data"
    }
   ],
   "source": [
    "K = 6\n",
    "\n",
    "filename = './Status/' + str(K) + '_dbs_prm_dbscan_parameter_search_pca.py.out'\n",
    "distanceDec = np.genfromtxt(filename, delimiter=',', dtype=None)\n",
    "\n",
    "#print(distanceDec[10000:10500])\n",
    "plt.plot(list(range(1,df_reduced.shape[0]+1)), distanceDec)\n",
    "plt.xlabel('Points sorted according to distance of ' + str(K) + 'th nearest neighbor')\n",
    "plt.title(str(K)+'th distance graph')\n",
    "plt.ylabel(str(K) + 'th Nearest Neighbor Distance')\n",
    "#plt.ylim([0, 0.2])\n",
    "plt.show()"
   ]
  },
  {
   "cell_type": "code",
   "execution_count": null,
   "metadata": {},
   "outputs": [],
   "source": []
  }
 ],
 "metadata": {
  "kernelspec": {
   "display_name": "py_36",
   "language": "python",
   "name": "py_36"
  },
  "language_info": {
   "codemirror_mode": {
    "name": "ipython",
    "version": 3
   },
   "file_extension": ".py",
   "mimetype": "text/x-python",
   "name": "python",
   "nbconvert_exporter": "python",
   "pygments_lexer": "ipython3",
   "version": "3.6.5"
  }
 },
 "nbformat": 4,
 "nbformat_minor": 2
}
